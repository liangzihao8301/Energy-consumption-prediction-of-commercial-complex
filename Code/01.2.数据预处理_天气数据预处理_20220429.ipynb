{
 "cells": [
  {
   "cell_type": "code",
   "execution_count": 2,
   "id": "db476615",
   "metadata": {
    "execution": {
     "iopub.execute_input": "2022-05-09T10:31:15.390652Z",
     "iopub.status.busy": "2022-05-09T10:31:15.390308Z",
     "iopub.status.idle": "2022-05-09T10:31:15.888076Z",
     "shell.execute_reply": "2022-05-09T10:31:15.886343Z",
     "shell.execute_reply.started": "2022-05-09T10:31:15.390619Z"
    },
    "scrolled": true,
    "tags": []
   },
   "outputs": [],
   "source": [
    "import numpy as np\n",
    "import pandas as pd\n",
    "import pickle\n",
    "%matplotlib inline\n",
    "import matplotlib # 注意这个也要import一次\n",
    "import matplotlib.pyplot as plt\n",
    "import seaborn as sns\n",
    "\n",
    "import gc\n",
    "\n",
    "from datetime import date\n",
    "\n",
    "\n",
    "from sklearn.preprocessing import LabelEncoder\n",
    "from sklearn import metrics\n",
    "from sklearn.metrics import roc_auc_score, accuracy_score, recall_score, mean_squared_error, roc_curve, auc\n",
    "from sklearn.model_selection import train_test_split\n",
    "\n",
    "import warnings\n",
    "warnings.filterwarnings(\"ignore\")"
   ]
  },
  {
   "cell_type": "code",
   "execution_count": 3,
   "id": "27ca61b7",
   "metadata": {
    "execution": {
     "iopub.execute_input": "2022-05-09T10:31:15.890105Z",
     "iopub.status.busy": "2022-05-09T10:31:15.889861Z",
     "iopub.status.idle": "2022-05-09T10:31:17.003933Z",
     "shell.execute_reply": "2022-05-09T10:31:17.002700Z",
     "shell.execute_reply.started": "2022-05-09T10:31:15.890075Z"
    },
    "scrolled": true,
    "tags": []
   },
   "outputs": [],
   "source": [
    "# 每日天气\n",
    "weather_daily = pd.read_csv(r\"/home/aistudio/data/data141580/每日天气数据.csv\", encoding='utf-16')\n",
    "# 每小时天气\n",
    "weather_hour = pd.read_csv(r\"/home/aistudio/data/data141580/每小时天气数据.csv\", encoding='utf-16')"
   ]
  },
  {
   "cell_type": "code",
   "execution_count": 4,
   "id": "8e76c9b8-3c85-41f5-aaad-1549feaca939",
   "metadata": {
    "execution": {
     "iopub.execute_input": "2022-05-09T10:31:17.006007Z",
     "iopub.status.busy": "2022-05-09T10:31:17.005609Z",
     "iopub.status.idle": "2022-05-09T10:31:30.818060Z",
     "shell.execute_reply": "2022-05-09T10:31:30.786109Z",
     "shell.execute_reply.started": "2022-05-09T10:31:17.005954Z"
    },
    "scrolled": true,
    "tags": []
   },
   "outputs": [],
   "source": [
    "# 室内温度\n",
    "inner_temp_hour = pd.read_csv(r\"/home/aistudio/data/data141580/每小时室内温度监测数据.csv\", encoding='utf-16')\n",
    "# 室内湿度\n",
    "inner_humidity_hour = pd.read_csv(r\"/home/aistudio/data/data141580/每小时室内湿度监测数据.csv\", encoding='utf-16')\n",
    "# PM2.5\n",
    "inner_PM25_hour = pd.read_csv(r\"/home/aistudio/data/data141580/每小时室内PM2.5监测数据.csv\", encoding='utf-16')\n",
    "# CO2\n",
    "inner_CO2_hour = pd.read_csv(r\"/home/aistudio/data/data141580/每小时室内CO2监测数据.csv\", encoding='utf-16')"
   ]
  },
  {
   "cell_type": "markdown",
   "id": "562b81d8-ceab-4b98-83a6-4ca34991154e",
   "metadata": {},
   "source": [
    "### 1. 处理室内环境数据"
   ]
  },
  {
   "cell_type": "code",
   "execution_count": 5,
   "id": "868b67b5-3919-4a84-ace6-be1a31e91728",
   "metadata": {
    "execution": {
     "iopub.execute_input": "2022-05-09T10:31:30.820462Z",
     "iopub.status.busy": "2022-05-09T10:31:30.819643Z",
     "iopub.status.idle": "2022-05-09T10:31:31.029104Z",
     "shell.execute_reply": "2022-05-09T10:31:31.001955Z",
     "shell.execute_reply.started": "2022-05-09T10:31:30.820411Z"
    },
    "scrolled": true,
    "tags": []
   },
   "outputs": [],
   "source": [
    "# inner_temp_hour"
   ]
  },
  {
   "cell_type": "code",
   "execution_count": 6,
   "id": "68a30c3e-e079-4f4f-a70f-a058d95664e3",
   "metadata": {
    "execution": {
     "iopub.execute_input": "2022-05-09T10:31:31.031585Z",
     "iopub.status.busy": "2022-05-09T10:31:31.031320Z",
     "iopub.status.idle": "2022-05-09T10:32:44.588051Z",
     "shell.execute_reply": "2022-05-09T10:32:44.585592Z",
     "shell.execute_reply.started": "2022-05-09T10:31:31.031553Z"
    },
    "scrolled": true,
    "tags": []
   },
   "outputs": [],
   "source": [
    "inner_temp_hour['data_time'] = pd.to_datetime(inner_temp_hour['data_time'], format=\"%Y%m%d%H0000\")\n",
    "inner_humidity_hour['data_time'] = pd.to_datetime(inner_humidity_hour['data_time'], format=\"%Y%m%d%H0000\")\n",
    "inner_PM25_hour['data_time'] = pd.to_datetime(inner_PM25_hour['data_time'], format=\"%Y%m%d%H0000\")\n",
    "inner_CO2_hour['data_time'] = pd.to_datetime(inner_CO2_hour['data_time'], format=\"%Y%m%d%H0000\")"
   ]
  },
  {
   "cell_type": "code",
   "execution_count": 7,
   "id": "fc5f78ae-d549-4180-8e95-0fee1fcd9d24",
   "metadata": {
    "execution": {
     "iopub.execute_input": "2022-05-09T10:32:44.590065Z",
     "iopub.status.busy": "2022-05-09T10:32:44.589728Z",
     "iopub.status.idle": "2022-05-09T10:32:44.787032Z",
     "shell.execute_reply": "2022-05-09T10:32:44.786119Z",
     "shell.execute_reply.started": "2022-05-09T10:32:44.590022Z"
    },
    "scrolled": true,
    "tags": []
   },
   "outputs": [],
   "source": [
    "# inner_temp_hour['data_time'] = inner_temp_hour['data_time'].apply(lambda x: pd.to_datetime(x, format=\"%Y%m%d%H0000\"))\n",
    "# inner_humidity_hour['data_time'] = inner_humidity_hour['data_time'].apply(lambda x: pd.to_datetime(x, format=\"%Y%m%d%H0000\"))\n",
    "# inner_PM25_hour['data_time'] = inner_PM25_hour['data_time'].apply(lambda x: pd.to_datetime(x, format=\"%Y%m%d%H0000\"))\n",
    "# inner_CO2_hour['data_time'] = inner_CO2_hour['data_time'].apply(lambda x: pd.to_datetime(x, format=\"%Y%m%d%H0000\"))\n"
   ]
  },
  {
   "cell_type": "code",
   "execution_count": 8,
   "id": "f7981947-3b51-49e9-82b2-8c68495ce74f",
   "metadata": {
    "execution": {
     "iopub.execute_input": "2022-05-09T10:32:44.789841Z",
     "iopub.status.busy": "2022-05-09T10:32:44.788472Z",
     "iopub.status.idle": "2022-05-09T10:32:53.378050Z",
     "shell.execute_reply": "2022-05-09T10:32:53.377036Z",
     "shell.execute_reply.started": "2022-05-09T10:32:44.789772Z"
    },
    "scrolled": true,
    "tags": []
   },
   "outputs": [],
   "source": [
    "inner_temp_hour['date'] = inner_temp_hour['data_time'].dt.date\n",
    "inner_temp_hour['hour'] = inner_temp_hour['data_time'].dt.hour\n",
    "\n",
    "inner_humidity_hour['date'] = inner_humidity_hour['data_time'].dt.date\n",
    "inner_humidity_hour['hour'] = inner_humidity_hour['data_time'].dt.hour\n",
    "\n",
    "inner_PM25_hour['date'] = inner_PM25_hour['data_time'].dt.date\n",
    "inner_PM25_hour['hour'] = inner_PM25_hour['data_time'].dt.hour\n",
    "\n",
    "inner_CO2_hour['date'] = inner_CO2_hour['data_time'].dt.date\n",
    "inner_CO2_hour['hour'] = inner_CO2_hour['data_time'].dt.hour"
   ]
  },
  {
   "cell_type": "code",
   "execution_count": 9,
   "id": "bbbbe8e3-8b64-4449-847e-94ddd969c12b",
   "metadata": {
    "execution": {
     "iopub.execute_input": "2022-05-09T10:32:53.379615Z",
     "iopub.status.busy": "2022-05-09T10:32:53.379368Z",
     "iopub.status.idle": "2022-05-09T10:33:04.907838Z",
     "shell.execute_reply": "2022-05-09T10:33:04.906855Z",
     "shell.execute_reply.started": "2022-05-09T10:32:53.379586Z"
    },
    "scrolled": true,
    "tags": []
   },
   "outputs": [],
   "source": [
    "inner_temp_hour.sort_values(by=['date', 'hour'], inplace=True)\n",
    "inner_humidity_hour.sort_values(by=['date', 'hour'], inplace=True)\n",
    "inner_PM25_hour.sort_values(by=['date', 'hour'], inplace=True)\n",
    "inner_CO2_hour.sort_values(by=['date', 'hour'], inplace=True)"
   ]
  },
  {
   "cell_type": "code",
   "execution_count": 10,
   "id": "076be58b-f377-4346-87a8-bdeee5deb6a6",
   "metadata": {
    "execution": {
     "iopub.execute_input": "2022-05-09T10:33:04.910811Z",
     "iopub.status.busy": "2022-05-09T10:33:04.909692Z",
     "iopub.status.idle": "2022-05-09T10:33:18.587637Z",
     "shell.execute_reply": "2022-05-09T10:33:18.586500Z",
     "shell.execute_reply.started": "2022-05-09T10:33:04.910760Z"
    },
    "scrolled": true,
    "tags": []
   },
   "outputs": [],
   "source": [
    "inner_temp_hour = inner_temp_hour.pivot(index=['date', 'hour'], columns=['meter'], values=['data_value'])\n",
    "inner_humidity_hour = inner_humidity_hour.pivot(index=['date', 'hour'], columns=['meter'], values=['data_value'])\n",
    "inner_PM25_hour = inner_PM25_hour.pivot(index=['date', 'hour'], columns=['meter'], values=['data_value'])\n",
    "inner_CO2_hour = inner_CO2_hour.pivot(index=['date', 'hour'], columns=['meter'], values=['data_value'])"
   ]
  },
  {
   "cell_type": "code",
   "execution_count": 11,
   "id": "1b0d4d39-9950-4288-bc2a-c7538e165ac5",
   "metadata": {
    "execution": {
     "iopub.execute_input": "2022-05-09T10:33:18.589669Z",
     "iopub.status.busy": "2022-05-09T10:33:18.589241Z",
     "iopub.status.idle": "2022-05-09T10:33:18.920232Z",
     "shell.execute_reply": "2022-05-09T10:33:18.732100Z",
     "shell.execute_reply.started": "2022-05-09T10:33:18.589626Z"
    },
    "scrolled": true,
    "tags": []
   },
   "outputs": [],
   "source": [
    "# inner_temp_hour"
   ]
  },
  {
   "cell_type": "code",
   "execution_count": 12,
   "id": "912e25ec-dcca-426a-ba57-b28716305bb4",
   "metadata": {
    "execution": {
     "iopub.execute_input": "2022-05-09T10:33:18.922065Z",
     "iopub.status.busy": "2022-05-09T10:33:18.921807Z",
     "iopub.status.idle": "2022-05-09T10:33:19.486017Z",
     "shell.execute_reply": "2022-05-09T10:33:19.386939Z",
     "shell.execute_reply.started": "2022-05-09T10:33:18.922035Z"
    },
    "scrolled": true,
    "tags": []
   },
   "outputs": [],
   "source": [
    "cols = []\n",
    "for col in inner_temp_hour.columns:\n",
    "    cols.append('inner_temp_' + str(col[1]))\n",
    "inner_temp_hour.columns = cols\n",
    "\n",
    "cols = []\n",
    "for col in inner_humidity_hour.columns:\n",
    "    cols.append('inner_humidity_' + str(col[1]))\n",
    "inner_humidity_hour.columns = cols\n",
    "\n",
    "cols = []\n",
    "for col in inner_PM25_hour.columns:\n",
    "    cols.append('inner_PM25_' + str(col[1]))\n",
    "inner_PM25_hour.columns = cols\n",
    "\n",
    "cols = []\n",
    "for col in inner_CO2_hour.columns:\n",
    "    cols.append('inner_CO2_' + str(col[1]))\n",
    "inner_CO2_hour.columns = cols"
   ]
  },
  {
   "cell_type": "code",
   "execution_count": 13,
   "id": "7aaa06a2-ea44-4a1e-bb33-453238f32125",
   "metadata": {
    "execution": {
     "iopub.execute_input": "2022-05-09T10:33:19.488444Z",
     "iopub.status.busy": "2022-05-09T10:33:19.487671Z",
     "iopub.status.idle": "2022-05-09T10:33:19.697408Z",
     "shell.execute_reply": "2022-05-09T10:33:19.696091Z",
     "shell.execute_reply.started": "2022-05-09T10:33:19.488351Z"
    },
    "scrolled": true,
    "tags": []
   },
   "outputs": [],
   "source": [
    "inner_temp_hour.fillna(method='ffill', inplace=True)\n",
    "inner_humidity_hour.fillna(method='ffill', inplace=True)\n",
    "inner_PM25_hour.fillna(method='ffill', inplace=True)\n",
    "inner_PM25_hour.fillna(method='bfill', inplace=True)\n",
    "inner_CO2_hour.fillna(method='ffill', inplace=True)\n",
    "inner_CO2_hour.fillna(method='bfill', inplace=True)"
   ]
  },
  {
   "cell_type": "code",
   "execution_count": 13,
   "id": "d4fb6782-3cb5-44a5-a72b-d335647427d9",
   "metadata": {
    "execution": {
     "iopub.execute_input": "2022-05-02T13:07:41.586558Z",
     "iopub.status.busy": "2022-05-02T13:07:41.586123Z",
     "iopub.status.idle": "2022-05-02T13:07:41.615422Z",
     "shell.execute_reply": "2022-05-02T13:07:41.614731Z",
     "shell.execute_reply.started": "2022-05-02T13:07:41.586532Z"
    },
    "scrolled": true,
    "tags": []
   },
   "outputs": [],
   "source": [
    "# 求室内环境每日的平均数值\n",
    "inner_temp_daily = inner_temp_hour.reset_index().groupby(by=['date'])[inner_temp_hour.columns].agg('mean')\n",
    "inner_humidity_daily = inner_humidity_hour.reset_index().groupby(by=['date'])[inner_humidity_hour.columns].agg('mean')\n",
    "inner_PM25_daily = inner_PM25_hour.reset_index().groupby(by=['date'])[inner_PM25_hour.columns].agg('mean')\n",
    "inner_CO2_daily = inner_CO2_hour.reset_index().groupby(by=['date'])[inner_CO2_hour.columns].agg('mean')"
   ]
  },
  {
   "cell_type": "code",
   "execution_count": 14,
   "id": "bf331ce4-7493-4a6f-9ec7-5cd6ba222f8f",
   "metadata": {
    "execution": {
     "iopub.execute_input": "2022-05-02T13:07:41.617750Z",
     "iopub.status.busy": "2022-05-02T13:07:41.617532Z",
     "iopub.status.idle": "2022-05-02T13:07:41.620634Z",
     "shell.execute_reply": "2022-05-02T13:07:41.620068Z",
     "shell.execute_reply.started": "2022-05-02T13:07:41.617728Z"
    },
    "scrolled": true,
    "tags": []
   },
   "outputs": [],
   "source": [
    "# inner_temp_hour.isnull().sum(axis= 1).sum(),\\\n",
    "# inner_humidity_hour.isnull().sum(axis= 1).sum(),\\\n",
    "# inner_PM25_hour.isnull().sum(axis= 1).sum(),\\\n",
    "# inner_CO2_hour.isnull().sum(axis= 1).sum()"
   ]
  },
  {
   "cell_type": "code",
   "execution_count": 15,
   "id": "7637d9e1-8067-43a7-8c6d-e03c4ec0a716",
   "metadata": {
    "execution": {
     "iopub.execute_input": "2022-05-02T13:07:41.621953Z",
     "iopub.status.busy": "2022-05-02T13:07:41.621781Z",
     "iopub.status.idle": "2022-05-02T13:07:41.627128Z",
     "shell.execute_reply": "2022-05-02T13:07:41.626662Z",
     "shell.execute_reply.started": "2022-05-02T13:07:41.621933Z"
    },
    "scrolled": true,
    "tags": []
   },
   "outputs": [
    {
     "data": {
      "text/plain": [
       "(5759, 61)"
      ]
     },
     "execution_count": 15,
     "metadata": {},
     "output_type": "execute_result"
    }
   ],
   "source": [
    "inner_humidity_hour.shape"
   ]
  },
  {
   "cell_type": "code",
   "execution_count": 16,
   "id": "dd4db635",
   "metadata": {
    "execution": {
     "iopub.execute_input": "2022-05-02T13:07:41.628371Z",
     "iopub.status.busy": "2022-05-02T13:07:41.627837Z",
     "iopub.status.idle": "2022-05-02T13:07:41.630734Z",
     "shell.execute_reply": "2022-05-02T13:07:41.630259Z",
     "shell.execute_reply.started": "2022-05-02T13:07:41.628349Z"
    },
    "scrolled": true
   },
   "outputs": [],
   "source": [
    "# pd.to_datetime(1646405999999, unit='ms')"
   ]
  },
  {
   "cell_type": "markdown",
   "id": "03a7495f-dd05-4d3e-a2d2-9f04240db270",
   "metadata": {},
   "source": [
    "### 2.1 处理每小时天气数据 "
   ]
  },
  {
   "cell_type": "code",
   "execution_count": 17,
   "id": "e19b9418-0d8d-41c7-bc4d-dfa75ac027b1",
   "metadata": {
    "execution": {
     "iopub.execute_input": "2022-05-02T13:07:41.631947Z",
     "iopub.status.busy": "2022-05-02T13:07:41.631438Z",
     "iopub.status.idle": "2022-05-02T13:07:41.639509Z",
     "shell.execute_reply": "2022-05-02T13:07:41.639017Z",
     "shell.execute_reply.started": "2022-05-02T13:07:41.631924Z"
    },
    "scrolled": true,
    "tags": []
   },
   "outputs": [],
   "source": [
    "weather_hour_cmplt = pd.DataFrame([['500000', '重庆市', '2021-10-21 13:00:00'],\n",
    "                          ['500000', '重庆市', '2021-10-21 14:00:00'],\n",
    "                          ['500000', '重庆市', '2021-10-21 15:00:00']],\n",
    "                          columns=['c_city_code', 'c_city_name', 'c_weather_time'])\n",
    "# weather_hour_cmplt\n",
    "\n",
    "weather_hour = weather_hour.append(weather_hour_cmplt)"
   ]
  },
  {
   "cell_type": "code",
   "execution_count": 18,
   "id": "4fe69fbf-1cd0-4538-b3ad-a5398264a635",
   "metadata": {
    "execution": {
     "iopub.execute_input": "2022-05-02T13:07:41.640369Z",
     "iopub.status.busy": "2022-05-02T13:07:41.640211Z",
     "iopub.status.idle": "2022-05-02T13:07:41.649391Z",
     "shell.execute_reply": "2022-05-02T13:07:41.648927Z",
     "shell.execute_reply.started": "2022-05-02T13:07:41.640351Z"
    },
    "scrolled": true
   },
   "outputs": [],
   "source": [
    "weather_hour['c_weather_time'] = pd.to_datetime(weather_hour['c_weather_time'])\n",
    "weather_hour['date'] = weather_hour['c_weather_time'].dt.date\n",
    "# weather_hour['date'] = pd.to_datetime(weather_hour['date'], format=\"%Y-%m-%d\")\n",
    "weather_hour['hour'] = weather_hour['c_weather_time'].dt.hour"
   ]
  },
  {
   "cell_type": "code",
   "execution_count": 19,
   "id": "44d2ab4a-1312-4a3a-9880-06db7c96aadd",
   "metadata": {
    "execution": {
     "iopub.execute_input": "2022-05-02T13:07:41.650460Z",
     "iopub.status.busy": "2022-05-02T13:07:41.650073Z",
     "iopub.status.idle": "2022-05-02T13:07:41.655346Z",
     "shell.execute_reply": "2022-05-02T13:07:41.654872Z",
     "shell.execute_reply.started": "2022-05-02T13:07:41.650437Z"
    },
    "scrolled": true,
    "tags": []
   },
   "outputs": [],
   "source": [
    "weather_hour.drop(\n",
    "[col for col in weather_hour.columns if 'min' in col] +\\\n",
    "[col for col in weather_hour.columns if 'max' in col],\n",
    "axis=1, inplace=True\n",
    ")"
   ]
  },
  {
   "cell_type": "code",
   "execution_count": 20,
   "id": "fbdb5074-4070-4ad6-b593-179adb34f779",
   "metadata": {
    "execution": {
     "iopub.execute_input": "2022-05-02T13:07:41.656397Z",
     "iopub.status.busy": "2022-05-02T13:07:41.656165Z",
     "iopub.status.idle": "2022-05-02T13:07:41.667566Z",
     "shell.execute_reply": "2022-05-02T13:07:41.667051Z",
     "shell.execute_reply.started": "2022-05-02T13:07:41.656377Z"
    },
    "scrolled": true,
    "tags": []
   },
   "outputs": [],
   "source": [
    "weather_hour.sort_values(by=['date', 'hour'], inplace=True)\n",
    "weather_hour.fillna(method='ffill', inplace=True)\n",
    "weather_hour.set_index(['date', 'hour'], inplace=True)"
   ]
  },
  {
   "cell_type": "markdown",
   "id": "dd7ea054-b5bd-4e57-b199-29c81c087775",
   "metadata": {},
   "source": [
    "### 2.2 合并每小时天气和室内环境数据"
   ]
  },
  {
   "cell_type": "code",
   "execution_count": 21,
   "id": "c40b1198-0ff9-4e0b-8f98-fe0adb4422b7",
   "metadata": {
    "execution": {
     "iopub.execute_input": "2022-05-02T13:07:41.668801Z",
     "iopub.status.busy": "2022-05-02T13:07:41.668313Z",
     "iopub.status.idle": "2022-05-02T13:07:41.671303Z",
     "shell.execute_reply": "2022-05-02T13:07:41.670832Z",
     "shell.execute_reply.started": "2022-05-02T13:07:41.668776Z"
    },
    "scrolled": true,
    "tags": []
   },
   "outputs": [],
   "source": [
    "inner_temp_cols = inner_temp_hour.columns\n",
    "inner_humidity_cols = inner_humidity_hour.columns"
   ]
  },
  {
   "cell_type": "code",
   "execution_count": 22,
   "id": "52c66454-9d77-4610-a730-b766b0458ad0",
   "metadata": {
    "execution": {
     "iopub.execute_input": "2022-05-02T13:07:41.672488Z",
     "iopub.status.busy": "2022-05-02T13:07:41.672057Z",
     "iopub.status.idle": "2022-05-02T13:07:41.676416Z",
     "shell.execute_reply": "2022-05-02T13:07:41.675971Z",
     "shell.execute_reply.started": "2022-05-02T13:07:41.672465Z"
    },
    "scrolled": true,
    "tags": []
   },
   "outputs": [
    {
     "data": {
      "text/plain": [
       "Index(['c_city_code', 'c_city_name', 'c_weather_time', 'c_average_temp',\n",
       "       'c_average_wind_speed', 'c_average_humidity'],\n",
       "      dtype='object')"
      ]
     },
     "execution_count": 22,
     "metadata": {},
     "output_type": "execute_result"
    }
   ],
   "source": [
    "weather_hour.columns"
   ]
  },
  {
   "cell_type": "code",
   "execution_count": 23,
   "id": "baf7072d-93bf-4045-8742-8df5276e230b",
   "metadata": {
    "execution": {
     "iopub.execute_input": "2022-05-02T13:07:41.677560Z",
     "iopub.status.busy": "2022-05-02T13:07:41.677101Z",
     "iopub.status.idle": "2022-05-02T13:07:41.680690Z",
     "shell.execute_reply": "2022-05-02T13:07:41.680223Z",
     "shell.execute_reply.started": "2022-05-02T13:07:41.677538Z"
    },
    "scrolled": true,
    "tags": []
   },
   "outputs": [],
   "source": [
    "outer_tem_cols = [col for col in weather_hour.columns if 'temp' in col]\n",
    "outer_humidity_cols = [col for col in weather_hour.columns if 'humidity' in col]"
   ]
  },
  {
   "cell_type": "code",
   "execution_count": 24,
   "id": "f0ffecc4-bd3e-4ea2-a0b4-798e9fbcd05d",
   "metadata": {
    "execution": {
     "iopub.execute_input": "2022-05-02T13:07:41.681767Z",
     "iopub.status.busy": "2022-05-02T13:07:41.681366Z",
     "iopub.status.idle": "2022-05-02T13:07:41.726861Z",
     "shell.execute_reply": "2022-05-02T13:07:41.726236Z",
     "shell.execute_reply.started": "2022-05-02T13:07:41.681743Z"
    },
    "scrolled": true,
    "tags": []
   },
   "outputs": [],
   "source": [
    "weather_hour = weather_hour.join(inner_temp_hour).join(inner_humidity_hour).join(inner_PM25_hour).join(inner_CO2_hour)\n"
   ]
  },
  {
   "cell_type": "code",
   "execution_count": 25,
   "id": "5272dead-a2a4-42a1-9123-402519c146ef",
   "metadata": {
    "execution": {
     "iopub.execute_input": "2022-05-02T13:07:41.728130Z",
     "iopub.status.busy": "2022-05-02T13:07:41.727755Z",
     "iopub.status.idle": "2022-05-02T13:07:41.740698Z",
     "shell.execute_reply": "2022-05-02T13:07:41.740054Z",
     "shell.execute_reply.started": "2022-05-02T13:07:41.728104Z"
    },
    "scrolled": true,
    "tags": []
   },
   "outputs": [],
   "source": [
    "weather_hour.fillna(method='ffill', inplace=True)"
   ]
  },
  {
   "cell_type": "code",
   "execution_count": 26,
   "id": "a868175c-964b-4bad-b3c4-d7a1cc6eb280",
   "metadata": {
    "execution": {
     "iopub.execute_input": "2022-05-02T13:07:41.741997Z",
     "iopub.status.busy": "2022-05-02T13:07:41.741566Z",
     "iopub.status.idle": "2022-05-02T13:07:41.744429Z",
     "shell.execute_reply": "2022-05-02T13:07:41.743969Z",
     "shell.execute_reply.started": "2022-05-02T13:07:41.741972Z"
    },
    "scrolled": true,
    "tags": []
   },
   "outputs": [],
   "source": [
    "# weather_hour.iloc[598:602]"
   ]
  },
  {
   "cell_type": "code",
   "execution_count": 27,
   "id": "3f5270b2-3b33-48fe-b098-dd85ec297dd1",
   "metadata": {
    "execution": {
     "iopub.execute_input": "2022-05-02T13:07:41.745572Z",
     "iopub.status.busy": "2022-05-02T13:07:41.745168Z",
     "iopub.status.idle": "2022-05-02T13:07:41.911475Z",
     "shell.execute_reply": "2022-05-02T13:07:41.910755Z",
     "shell.execute_reply.started": "2022-05-02T13:07:41.745548Z"
    },
    "scrolled": true,
    "tags": []
   },
   "outputs": [],
   "source": [
    "for outer_col in outer_tem_cols:\n",
    "    for inner_col in inner_temp_cols:\n",
    "        weather_hour[outer_col + '&' + inner_col + '_diff'] = weather_hour[outer_col] - weather_hour[inner_col]\n",
    "\n",
    "for outer_col in outer_humidity_cols:\n",
    "    for inner_col in inner_humidity_cols:\n",
    "        weather_hour[outer_col + '&' + inner_col + '_diff'] = weather_hour[outer_col] - weather_hour[inner_col]"
   ]
  },
  {
   "cell_type": "code",
   "execution_count": 28,
   "id": "82e4f8ba-ebba-4c57-970d-dcc4978db48f",
   "metadata": {
    "execution": {
     "iopub.execute_input": "2022-05-02T13:07:41.913082Z",
     "iopub.status.busy": "2022-05-02T13:07:41.912516Z",
     "iopub.status.idle": "2022-05-02T13:07:41.944047Z",
     "shell.execute_reply": "2022-05-02T13:07:41.943342Z",
     "shell.execute_reply.started": "2022-05-02T13:07:41.913054Z"
    },
    "scrolled": true,
    "tags": []
   },
   "outputs": [],
   "source": [
    "weather_hour.sort_index(inplace=True)\n",
    "weather_hour.reset_index(inplace=True)"
   ]
  },
  {
   "cell_type": "code",
   "execution_count": 29,
   "id": "02876434-7d95-4196-8abe-fa4ef472c2da",
   "metadata": {
    "execution": {
     "iopub.execute_input": "2022-05-02T13:07:41.945557Z",
     "iopub.status.busy": "2022-05-02T13:07:41.945045Z",
     "iopub.status.idle": "2022-05-02T13:07:41.949356Z",
     "shell.execute_reply": "2022-05-02T13:07:41.948774Z",
     "shell.execute_reply.started": "2022-05-02T13:07:41.945529Z"
    },
    "scrolled": true,
    "tags": []
   },
   "outputs": [],
   "source": [
    "temp_value_cols = weather_hour.columns.difference(['date', 'hour', 'c_city_code', 'c_city_name', 'c_weather_time'])"
   ]
  },
  {
   "cell_type": "code",
   "execution_count": 30,
   "id": "7768fb37-bb04-4863-b121-2bb0ef057bde",
   "metadata": {
    "execution": {
     "iopub.execute_input": "2022-05-02T13:07:41.950575Z",
     "iopub.status.busy": "2022-05-02T13:07:41.950407Z",
     "iopub.status.idle": "2022-05-02T13:07:41.991984Z",
     "shell.execute_reply": "2022-05-02T13:07:41.991284Z",
     "shell.execute_reply.started": "2022-05-02T13:07:41.950555Z"
    },
    "scrolled": true,
    "tags": []
   },
   "outputs": [],
   "source": [
    "weather_hour = weather_hour.pivot(index=['date'], columns=['hour'], values=temp_value_cols)\n",
    "cols = []\n",
    "for col in weather_hour.columns:\n",
    "    cols.append(col[0] + str(col[1]))\n",
    "weather_hour.columns = cols"
   ]
  },
  {
   "cell_type": "code",
   "execution_count": 31,
   "id": "c31869ef-aa7f-4da2-be3f-3605b885a9bd",
   "metadata": {
    "execution": {
     "iopub.execute_input": "2022-05-02T13:07:41.993537Z",
     "iopub.status.busy": "2022-05-02T13:07:41.992978Z",
     "iopub.status.idle": "2022-05-02T13:07:41.996015Z",
     "shell.execute_reply": "2022-05-02T13:07:41.995445Z",
     "shell.execute_reply.started": "2022-05-02T13:07:41.993511Z"
    },
    "scrolled": true,
    "tags": []
   },
   "outputs": [],
   "source": [
    "# for c in weather_hour.columns:\n",
    "#     print(c)"
   ]
  },
  {
   "cell_type": "markdown",
   "id": "0db25f38-5971-47d4-ab6e-ea16ce5c4532",
   "metadata": {},
   "source": [
    "### 3.1 处理每日天气数据"
   ]
  },
  {
   "cell_type": "code",
   "execution_count": 32,
   "id": "769e0a59-5049-499a-959c-a2275dcd5a06",
   "metadata": {
    "execution": {
     "iopub.execute_input": "2022-05-02T13:07:41.996970Z",
     "iopub.status.busy": "2022-05-02T13:07:41.996810Z",
     "iopub.status.idle": "2022-05-02T13:07:42.001608Z",
     "shell.execute_reply": "2022-05-02T13:07:42.001052Z",
     "shell.execute_reply.started": "2022-05-02T13:07:41.996952Z"
    },
    "scrolled": true
   },
   "outputs": [],
   "source": [
    "weather_daily['c_weather_time'] = pd.to_datetime(weather_daily['c_weather_time'], format=\"%Y-%m-%d\")"
   ]
  },
  {
   "cell_type": "code",
   "execution_count": 33,
   "id": "3a439f3d-89de-49f2-86b4-05aedb65ddd2",
   "metadata": {
    "execution": {
     "iopub.execute_input": "2022-05-02T13:07:55.283918Z",
     "iopub.status.busy": "2022-05-02T13:07:55.283282Z",
     "iopub.status.idle": "2022-05-02T13:07:55.301705Z",
     "shell.execute_reply": "2022-05-02T13:07:55.301185Z",
     "shell.execute_reply.started": "2022-05-02T13:07:55.283888Z"
    },
    "scrolled": true,
    "tags": []
   },
   "outputs": [
    {
     "data": {
      "text/html": [
       "<div>\n",
       "<style scoped>\n",
       "    .dataframe tbody tr th:only-of-type {\n",
       "        vertical-align: middle;\n",
       "    }\n",
       "\n",
       "    .dataframe tbody tr th {\n",
       "        vertical-align: top;\n",
       "    }\n",
       "\n",
       "    .dataframe thead th {\n",
       "        text-align: right;\n",
       "    }\n",
       "</style>\n",
       "<table border=\"1\" class=\"dataframe\">\n",
       "  <thead>\n",
       "    <tr style=\"text-align: right;\">\n",
       "      <th></th>\n",
       "      <th>c_city_code</th>\n",
       "      <th>c_city_name</th>\n",
       "      <th>c_weather_time</th>\n",
       "      <th>c_average_temp</th>\n",
       "      <th>c_average_wind_speed</th>\n",
       "      <th>c_average_humidity</th>\n",
       "    </tr>\n",
       "  </thead>\n",
       "  <tbody>\n",
       "    <tr>\n",
       "      <th>0</th>\n",
       "      <td>500000</td>\n",
       "      <td>重庆市</td>\n",
       "      <td>2021-08-01</td>\n",
       "      <td>32.0</td>\n",
       "      <td>6.01</td>\n",
       "      <td>72.0</td>\n",
       "    </tr>\n",
       "    <tr>\n",
       "      <th>1</th>\n",
       "      <td>500000</td>\n",
       "      <td>重庆市</td>\n",
       "      <td>2021-08-02</td>\n",
       "      <td>33.5</td>\n",
       "      <td>4.28</td>\n",
       "      <td>69.0</td>\n",
       "    </tr>\n",
       "    <tr>\n",
       "      <th>2</th>\n",
       "      <td>500000</td>\n",
       "      <td>重庆市</td>\n",
       "      <td>2021-08-03</td>\n",
       "      <td>33.0</td>\n",
       "      <td>4.90</td>\n",
       "      <td>57.0</td>\n",
       "    </tr>\n",
       "    <tr>\n",
       "      <th>3</th>\n",
       "      <td>500000</td>\n",
       "      <td>重庆市</td>\n",
       "      <td>2021-08-04</td>\n",
       "      <td>33.0</td>\n",
       "      <td>3.13</td>\n",
       "      <td>63.0</td>\n",
       "    </tr>\n",
       "    <tr>\n",
       "      <th>4</th>\n",
       "      <td>500000</td>\n",
       "      <td>重庆市</td>\n",
       "      <td>2021-08-05</td>\n",
       "      <td>32.5</td>\n",
       "      <td>8.40</td>\n",
       "      <td>72.0</td>\n",
       "    </tr>\n",
       "    <tr>\n",
       "      <th>...</th>\n",
       "      <td>...</td>\n",
       "      <td>...</td>\n",
       "      <td>...</td>\n",
       "      <td>...</td>\n",
       "      <td>...</td>\n",
       "      <td>...</td>\n",
       "    </tr>\n",
       "    <tr>\n",
       "      <th>238</th>\n",
       "      <td>500000</td>\n",
       "      <td>重庆市</td>\n",
       "      <td>2022-03-27</td>\n",
       "      <td>14.5</td>\n",
       "      <td>3.00</td>\n",
       "      <td>83.0</td>\n",
       "    </tr>\n",
       "    <tr>\n",
       "      <th>239</th>\n",
       "      <td>500000</td>\n",
       "      <td>重庆市</td>\n",
       "      <td>2022-03-28</td>\n",
       "      <td>17.0</td>\n",
       "      <td>8.40</td>\n",
       "      <td>73.0</td>\n",
       "    </tr>\n",
       "    <tr>\n",
       "      <th>240</th>\n",
       "      <td>500000</td>\n",
       "      <td>重庆市</td>\n",
       "      <td>2022-03-29</td>\n",
       "      <td>17.5</td>\n",
       "      <td>8.40</td>\n",
       "      <td>66.0</td>\n",
       "    </tr>\n",
       "    <tr>\n",
       "      <th>241</th>\n",
       "      <td>500000</td>\n",
       "      <td>重庆市</td>\n",
       "      <td>2022-03-30</td>\n",
       "      <td>16.0</td>\n",
       "      <td>3.00</td>\n",
       "      <td>91.0</td>\n",
       "    </tr>\n",
       "    <tr>\n",
       "      <th>242</th>\n",
       "      <td>500000</td>\n",
       "      <td>重庆市</td>\n",
       "      <td>2022-03-31</td>\n",
       "      <td>15.5</td>\n",
       "      <td>8.40</td>\n",
       "      <td>94.0</td>\n",
       "    </tr>\n",
       "  </tbody>\n",
       "</table>\n",
       "<p>243 rows × 6 columns</p>\n",
       "</div>"
      ],
      "text/plain": [
       "     c_city_code c_city_name c_weather_time  c_average_temp  \\\n",
       "0         500000         重庆市     2021-08-01            32.0   \n",
       "1         500000         重庆市     2021-08-02            33.5   \n",
       "2         500000         重庆市     2021-08-03            33.0   \n",
       "3         500000         重庆市     2021-08-04            33.0   \n",
       "4         500000         重庆市     2021-08-05            32.5   \n",
       "..           ...         ...            ...             ...   \n",
       "238       500000         重庆市     2022-03-27            14.5   \n",
       "239       500000         重庆市     2022-03-28            17.0   \n",
       "240       500000         重庆市     2022-03-29            17.5   \n",
       "241       500000         重庆市     2022-03-30            16.0   \n",
       "242       500000         重庆市     2022-03-31            15.5   \n",
       "\n",
       "     c_average_wind_speed  c_average_humidity  \n",
       "0                    6.01                72.0  \n",
       "1                    4.28                69.0  \n",
       "2                    4.90                57.0  \n",
       "3                    3.13                63.0  \n",
       "4                    8.40                72.0  \n",
       "..                    ...                 ...  \n",
       "238                  3.00                83.0  \n",
       "239                  8.40                73.0  \n",
       "240                  8.40                66.0  \n",
       "241                  3.00                91.0  \n",
       "242                  8.40                94.0  \n",
       "\n",
       "[243 rows x 6 columns]"
      ]
     },
     "execution_count": 33,
     "metadata": {},
     "output_type": "execute_result"
    }
   ],
   "source": [
    "weather_daily.drop(\n",
    "[col for col in weather_daily.columns if 'min' in col] +\\\n",
    "[col for col in weather_daily.columns if 'max' in col],\n",
    "axis=1, inplace=True\n",
    ")\n",
    "weather_daily"
   ]
  },
  {
   "cell_type": "code",
   "execution_count": 34,
   "id": "3539d684-f356-4493-b68f-0fe7c9f1eaa7",
   "metadata": {
    "execution": {
     "iopub.execute_input": "2022-05-02T13:07:55.303049Z",
     "iopub.status.busy": "2022-05-02T13:07:55.302796Z",
     "iopub.status.idle": "2022-05-02T13:07:55.307763Z",
     "shell.execute_reply": "2022-05-02T13:07:55.307208Z",
     "shell.execute_reply.started": "2022-05-02T13:07:55.303025Z"
    },
    "scrolled": true
   },
   "outputs": [],
   "source": [
    "weather_daily.sort_values(by=['c_weather_time'], inplace=True)\n",
    "weather_daily.set_index(['c_weather_time'], inplace=True)"
   ]
  },
  {
   "cell_type": "markdown",
   "id": "ecf025e9-d376-4f18-a3e0-b499561d3da5",
   "metadata": {},
   "source": [
    "### 3.2 合并每日天气和室内环境数据"
   ]
  },
  {
   "cell_type": "code",
   "execution_count": 35,
   "id": "6ef16fe0-4193-4f9b-8f64-a6f851444522",
   "metadata": {
    "execution": {
     "iopub.execute_input": "2022-05-02T13:07:55.309087Z",
     "iopub.status.busy": "2022-05-02T13:07:55.308771Z",
     "iopub.status.idle": "2022-05-02T13:07:55.311947Z",
     "shell.execute_reply": "2022-05-02T13:07:55.311488Z",
     "shell.execute_reply.started": "2022-05-02T13:07:55.309063Z"
    },
    "scrolled": true,
    "tags": []
   },
   "outputs": [],
   "source": [
    "inner_temp_cols = inner_temp_daily.columns\n",
    "inner_humidity_cols = inner_humidity_daily.columns"
   ]
  },
  {
   "cell_type": "code",
   "execution_count": 36,
   "id": "4bda0e7b-4669-4e0a-83c8-e26ae7aaae0e",
   "metadata": {
    "execution": {
     "iopub.execute_input": "2022-05-02T13:07:55.312961Z",
     "iopub.status.busy": "2022-05-02T13:07:55.312660Z",
     "iopub.status.idle": "2022-05-02T13:07:55.317467Z",
     "shell.execute_reply": "2022-05-02T13:07:55.317023Z",
     "shell.execute_reply.started": "2022-05-02T13:07:55.312940Z"
    },
    "scrolled": true,
    "tags": []
   },
   "outputs": [
    {
     "data": {
      "text/plain": [
       "Index(['c_city_code', 'c_city_name', 'c_average_temp', 'c_average_wind_speed',\n",
       "       'c_average_humidity'],\n",
       "      dtype='object')"
      ]
     },
     "execution_count": 36,
     "metadata": {},
     "output_type": "execute_result"
    }
   ],
   "source": [
    "weather_daily.columns\n",
    "# inner_temp_daily.columns"
   ]
  },
  {
   "cell_type": "code",
   "execution_count": 37,
   "id": "263f9abc-42e9-403b-8079-f481425823a2",
   "metadata": {
    "execution": {
     "iopub.execute_input": "2022-05-02T13:07:55.318845Z",
     "iopub.status.busy": "2022-05-02T13:07:55.318631Z",
     "iopub.status.idle": "2022-05-02T13:07:55.321972Z",
     "shell.execute_reply": "2022-05-02T13:07:55.321526Z",
     "shell.execute_reply.started": "2022-05-02T13:07:55.318825Z"
    },
    "scrolled": true,
    "tags": []
   },
   "outputs": [],
   "source": [
    "outer_tem_cols = [col for col in weather_daily.columns if 'temp' in col]\n",
    "outer_humidity_cols = [col for col in weather_daily.columns if 'humidity' in col]"
   ]
  },
  {
   "cell_type": "code",
   "execution_count": 38,
   "id": "c73fd781-fc1b-4f14-9a66-fefc054b23e1",
   "metadata": {
    "execution": {
     "iopub.execute_input": "2022-05-02T13:07:55.623793Z",
     "iopub.status.busy": "2022-05-02T13:07:55.623080Z",
     "iopub.status.idle": "2022-05-02T13:07:55.632723Z",
     "shell.execute_reply": "2022-05-02T13:07:55.632045Z",
     "shell.execute_reply.started": "2022-05-02T13:07:55.623762Z"
    },
    "scrolled": true,
    "tags": []
   },
   "outputs": [],
   "source": [
    "weather_daily = weather_daily.join(inner_temp_daily).join(inner_humidity_daily).join(inner_PM25_daily).join(inner_CO2_daily)"
   ]
  },
  {
   "cell_type": "code",
   "execution_count": 39,
   "id": "b9d677b9-fb62-43cd-97f0-943ae1b25697",
   "metadata": {
    "execution": {
     "iopub.execute_input": "2022-05-02T13:07:55.634278Z",
     "iopub.status.busy": "2022-05-02T13:07:55.633879Z",
     "iopub.status.idle": "2022-05-02T13:07:55.730123Z",
     "shell.execute_reply": "2022-05-02T13:07:55.729477Z",
     "shell.execute_reply.started": "2022-05-02T13:07:55.634244Z"
    },
    "scrolled": true,
    "tags": []
   },
   "outputs": [],
   "source": [
    "for outer_col in outer_tem_cols:\n",
    "    for inner_col in inner_temp_cols:\n",
    "        weather_daily[outer_col + '&' + inner_col + '_diff'] = weather_daily[outer_col] - weather_daily[inner_col]\n",
    "\n",
    "for outer_col in outer_humidity_cols:\n",
    "    for inner_col in inner_humidity_cols:\n",
    "        weather_daily[outer_col + '&' + inner_col + '_diff'] = weather_daily[outer_col] - weather_daily[inner_col]"
   ]
  },
  {
   "cell_type": "code",
   "execution_count": 40,
   "id": "bae41fb8-1845-4d0c-bd53-7a6bcb6f8f78",
   "metadata": {
    "execution": {
     "iopub.execute_input": "2022-05-02T13:07:55.731506Z",
     "iopub.status.busy": "2022-05-02T13:07:55.731027Z",
     "iopub.status.idle": "2022-05-02T13:07:55.760022Z",
     "shell.execute_reply": "2022-05-02T13:07:55.759495Z",
     "shell.execute_reply.started": "2022-05-02T13:07:55.731481Z"
    },
    "scrolled": true,
    "tags": []
   },
   "outputs": [
    {
     "data": {
      "text/html": [
       "<div>\n",
       "<style scoped>\n",
       "    .dataframe tbody tr th:only-of-type {\n",
       "        vertical-align: middle;\n",
       "    }\n",
       "\n",
       "    .dataframe tbody tr th {\n",
       "        vertical-align: top;\n",
       "    }\n",
       "\n",
       "    .dataframe thead th {\n",
       "        text-align: right;\n",
       "    }\n",
       "</style>\n",
       "<table border=\"1\" class=\"dataframe\">\n",
       "  <thead>\n",
       "    <tr style=\"text-align: right;\">\n",
       "      <th></th>\n",
       "      <th>c_city_code</th>\n",
       "      <th>c_city_name</th>\n",
       "      <th>c_average_temp</th>\n",
       "      <th>c_average_wind_speed</th>\n",
       "      <th>c_average_humidity</th>\n",
       "      <th>inner_temp_4001</th>\n",
       "      <th>inner_temp_4005</th>\n",
       "      <th>inner_temp_4007</th>\n",
       "      <th>inner_temp_4008</th>\n",
       "      <th>inner_temp_4009</th>\n",
       "      <th>...</th>\n",
       "      <th>c_average_humidity&amp;inner_humidity_20037_diff</th>\n",
       "      <th>c_average_humidity&amp;inner_humidity_20039_diff</th>\n",
       "      <th>c_average_humidity&amp;inner_humidity_20040_diff</th>\n",
       "      <th>c_average_humidity&amp;inner_humidity_20041_diff</th>\n",
       "      <th>c_average_humidity&amp;inner_humidity_20042_diff</th>\n",
       "      <th>c_average_humidity&amp;inner_humidity_20043_diff</th>\n",
       "      <th>c_average_humidity&amp;inner_humidity_20045_diff</th>\n",
       "      <th>c_average_humidity&amp;inner_humidity_20046_diff</th>\n",
       "      <th>c_average_humidity&amp;inner_humidity_20047_diff</th>\n",
       "      <th>c_average_humidity&amp;inner_humidity_20061_diff</th>\n",
       "    </tr>\n",
       "    <tr>\n",
       "      <th>c_weather_time</th>\n",
       "      <th></th>\n",
       "      <th></th>\n",
       "      <th></th>\n",
       "      <th></th>\n",
       "      <th></th>\n",
       "      <th></th>\n",
       "      <th></th>\n",
       "      <th></th>\n",
       "      <th></th>\n",
       "      <th></th>\n",
       "      <th></th>\n",
       "      <th></th>\n",
       "      <th></th>\n",
       "      <th></th>\n",
       "      <th></th>\n",
       "      <th></th>\n",
       "      <th></th>\n",
       "      <th></th>\n",
       "      <th></th>\n",
       "      <th></th>\n",
       "      <th></th>\n",
       "    </tr>\n",
       "  </thead>\n",
       "  <tbody>\n",
       "    <tr>\n",
       "      <th>2021-08-01</th>\n",
       "      <td>500000</td>\n",
       "      <td>重庆市</td>\n",
       "      <td>32.0</td>\n",
       "      <td>6.01</td>\n",
       "      <td>72.0</td>\n",
       "      <td>32.904167</td>\n",
       "      <td>30.250000</td>\n",
       "      <td>27.079167</td>\n",
       "      <td>26.608333</td>\n",
       "      <td>26.104167</td>\n",
       "      <td>...</td>\n",
       "      <td>8.158333</td>\n",
       "      <td>7.183333</td>\n",
       "      <td>12.950000</td>\n",
       "      <td>10.908333</td>\n",
       "      <td>7.595833</td>\n",
       "      <td>7.850000</td>\n",
       "      <td>10.533333</td>\n",
       "      <td>8.345833</td>\n",
       "      <td>6.637500</td>\n",
       "      <td>10.345833</td>\n",
       "    </tr>\n",
       "    <tr>\n",
       "      <th>2021-08-02</th>\n",
       "      <td>500000</td>\n",
       "      <td>重庆市</td>\n",
       "      <td>33.5</td>\n",
       "      <td>4.28</td>\n",
       "      <td>69.0</td>\n",
       "      <td>32.841667</td>\n",
       "      <td>30.441667</td>\n",
       "      <td>27.112500</td>\n",
       "      <td>26.920833</td>\n",
       "      <td>26.187500</td>\n",
       "      <td>...</td>\n",
       "      <td>0.787500</td>\n",
       "      <td>-0.579167</td>\n",
       "      <td>4.316667</td>\n",
       "      <td>4.054167</td>\n",
       "      <td>0.279167</td>\n",
       "      <td>1.691667</td>\n",
       "      <td>2.433333</td>\n",
       "      <td>0.450000</td>\n",
       "      <td>-1.258333</td>\n",
       "      <td>2.741667</td>\n",
       "    </tr>\n",
       "    <tr>\n",
       "      <th>2021-08-03</th>\n",
       "      <td>500000</td>\n",
       "      <td>重庆市</td>\n",
       "      <td>33.0</td>\n",
       "      <td>4.90</td>\n",
       "      <td>57.0</td>\n",
       "      <td>32.950000</td>\n",
       "      <td>30.483333</td>\n",
       "      <td>27.162500</td>\n",
       "      <td>27.070833</td>\n",
       "      <td>26.337500</td>\n",
       "      <td>...</td>\n",
       "      <td>-9.066667</td>\n",
       "      <td>-9.983333</td>\n",
       "      <td>-6.087500</td>\n",
       "      <td>-6.379167</td>\n",
       "      <td>-9.691667</td>\n",
       "      <td>-8.666667</td>\n",
       "      <td>-7.379167</td>\n",
       "      <td>-7.570833</td>\n",
       "      <td>-10.058333</td>\n",
       "      <td>-8.595833</td>\n",
       "    </tr>\n",
       "    <tr>\n",
       "      <th>2021-08-04</th>\n",
       "      <td>500000</td>\n",
       "      <td>重庆市</td>\n",
       "      <td>33.0</td>\n",
       "      <td>3.13</td>\n",
       "      <td>63.0</td>\n",
       "      <td>33.029167</td>\n",
       "      <td>30.520833</td>\n",
       "      <td>27.200000</td>\n",
       "      <td>26.529167</td>\n",
       "      <td>26.391667</td>\n",
       "      <td>...</td>\n",
       "      <td>-3.129167</td>\n",
       "      <td>-4.120833</td>\n",
       "      <td>-0.187500</td>\n",
       "      <td>-0.187500</td>\n",
       "      <td>-3.504167</td>\n",
       "      <td>-2.533333</td>\n",
       "      <td>0.062500</td>\n",
       "      <td>-1.412500</td>\n",
       "      <td>-4.287500</td>\n",
       "      <td>-3.125000</td>\n",
       "    </tr>\n",
       "    <tr>\n",
       "      <th>2021-08-05</th>\n",
       "      <td>500000</td>\n",
       "      <td>重庆市</td>\n",
       "      <td>32.5</td>\n",
       "      <td>8.40</td>\n",
       "      <td>72.0</td>\n",
       "      <td>33.020833</td>\n",
       "      <td>30.583333</td>\n",
       "      <td>27.316667</td>\n",
       "      <td>27.079167</td>\n",
       "      <td>26.270833</td>\n",
       "      <td>...</td>\n",
       "      <td>3.845833</td>\n",
       "      <td>1.958333</td>\n",
       "      <td>6.737500</td>\n",
       "      <td>7.287500</td>\n",
       "      <td>3.983333</td>\n",
       "      <td>4.333333</td>\n",
       "      <td>6.754167</td>\n",
       "      <td>4.950000</td>\n",
       "      <td>2.091667</td>\n",
       "      <td>3.412500</td>\n",
       "    </tr>\n",
       "    <tr>\n",
       "      <th>...</th>\n",
       "      <td>...</td>\n",
       "      <td>...</td>\n",
       "      <td>...</td>\n",
       "      <td>...</td>\n",
       "      <td>...</td>\n",
       "      <td>...</td>\n",
       "      <td>...</td>\n",
       "      <td>...</td>\n",
       "      <td>...</td>\n",
       "      <td>...</td>\n",
       "      <td>...</td>\n",
       "      <td>...</td>\n",
       "      <td>...</td>\n",
       "      <td>...</td>\n",
       "      <td>...</td>\n",
       "      <td>...</td>\n",
       "      <td>...</td>\n",
       "      <td>...</td>\n",
       "      <td>...</td>\n",
       "      <td>...</td>\n",
       "      <td>...</td>\n",
       "    </tr>\n",
       "    <tr>\n",
       "      <th>2022-03-27</th>\n",
       "      <td>500000</td>\n",
       "      <td>重庆市</td>\n",
       "      <td>14.5</td>\n",
       "      <td>3.00</td>\n",
       "      <td>83.0</td>\n",
       "      <td>22.683333</td>\n",
       "      <td>22.495833</td>\n",
       "      <td>23.462500</td>\n",
       "      <td>20.983333</td>\n",
       "      <td>18.033333</td>\n",
       "      <td>...</td>\n",
       "      <td>16.212500</td>\n",
       "      <td>17.437500</td>\n",
       "      <td>11.758333</td>\n",
       "      <td>13.429167</td>\n",
       "      <td>18.379167</td>\n",
       "      <td>23.958333</td>\n",
       "      <td>18.070833</td>\n",
       "      <td>15.950000</td>\n",
       "      <td>19.100000</td>\n",
       "      <td>16.462500</td>\n",
       "    </tr>\n",
       "    <tr>\n",
       "      <th>2022-03-28</th>\n",
       "      <td>500000</td>\n",
       "      <td>重庆市</td>\n",
       "      <td>17.0</td>\n",
       "      <td>8.40</td>\n",
       "      <td>73.0</td>\n",
       "      <td>22.654167</td>\n",
       "      <td>22.416667</td>\n",
       "      <td>23.483333</td>\n",
       "      <td>21.625000</td>\n",
       "      <td>19.220833</td>\n",
       "      <td>...</td>\n",
       "      <td>17.120833</td>\n",
       "      <td>14.850000</td>\n",
       "      <td>13.137500</td>\n",
       "      <td>14.354167</td>\n",
       "      <td>16.850000</td>\n",
       "      <td>20.383333</td>\n",
       "      <td>11.308333</td>\n",
       "      <td>17.654167</td>\n",
       "      <td>18.616667</td>\n",
       "      <td>14.441667</td>\n",
       "    </tr>\n",
       "    <tr>\n",
       "      <th>2022-03-29</th>\n",
       "      <td>500000</td>\n",
       "      <td>重庆市</td>\n",
       "      <td>17.5</td>\n",
       "      <td>8.40</td>\n",
       "      <td>66.0</td>\n",
       "      <td>22.895833</td>\n",
       "      <td>22.462500</td>\n",
       "      <td>23.820833</td>\n",
       "      <td>22.233333</td>\n",
       "      <td>20.258333</td>\n",
       "      <td>...</td>\n",
       "      <td>12.450000</td>\n",
       "      <td>9.791667</td>\n",
       "      <td>10.512500</td>\n",
       "      <td>11.654167</td>\n",
       "      <td>12.708333</td>\n",
       "      <td>8.104167</td>\n",
       "      <td>7.512500</td>\n",
       "      <td>13.800000</td>\n",
       "      <td>13.770833</td>\n",
       "      <td>8.833333</td>\n",
       "    </tr>\n",
       "    <tr>\n",
       "      <th>2022-03-30</th>\n",
       "      <td>500000</td>\n",
       "      <td>重庆市</td>\n",
       "      <td>16.0</td>\n",
       "      <td>3.00</td>\n",
       "      <td>91.0</td>\n",
       "      <td>23.037500</td>\n",
       "      <td>22.395833</td>\n",
       "      <td>23.737500</td>\n",
       "      <td>22.212500</td>\n",
       "      <td>18.995833</td>\n",
       "      <td>...</td>\n",
       "      <td>23.379167</td>\n",
       "      <td>24.637500</td>\n",
       "      <td>19.112500</td>\n",
       "      <td>20.616667</td>\n",
       "      <td>25.058333</td>\n",
       "      <td>21.404167</td>\n",
       "      <td>26.787500</td>\n",
       "      <td>25.116667</td>\n",
       "      <td>25.816667</td>\n",
       "      <td>24.166667</td>\n",
       "    </tr>\n",
       "    <tr>\n",
       "      <th>2022-03-31</th>\n",
       "      <td>500000</td>\n",
       "      <td>重庆市</td>\n",
       "      <td>15.5</td>\n",
       "      <td>8.40</td>\n",
       "      <td>94.0</td>\n",
       "      <td>22.708333</td>\n",
       "      <td>22.329167</td>\n",
       "      <td>23.608333</td>\n",
       "      <td>21.579167</td>\n",
       "      <td>18.891667</td>\n",
       "      <td>...</td>\n",
       "      <td>22.487500</td>\n",
       "      <td>25.679167</td>\n",
       "      <td>20.233333</td>\n",
       "      <td>22.383333</td>\n",
       "      <td>27.170833</td>\n",
       "      <td>22.254167</td>\n",
       "      <td>25.791667</td>\n",
       "      <td>23.429167</td>\n",
       "      <td>25.816667</td>\n",
       "      <td>24.337500</td>\n",
       "    </tr>\n",
       "  </tbody>\n",
       "</table>\n",
       "<p>243 rows × 303 columns</p>\n",
       "</div>"
      ],
      "text/plain": [
       "                c_city_code c_city_name  c_average_temp  c_average_wind_speed  \\\n",
       "c_weather_time                                                                  \n",
       "2021-08-01           500000         重庆市            32.0                  6.01   \n",
       "2021-08-02           500000         重庆市            33.5                  4.28   \n",
       "2021-08-03           500000         重庆市            33.0                  4.90   \n",
       "2021-08-04           500000         重庆市            33.0                  3.13   \n",
       "2021-08-05           500000         重庆市            32.5                  8.40   \n",
       "...                     ...         ...             ...                   ...   \n",
       "2022-03-27           500000         重庆市            14.5                  3.00   \n",
       "2022-03-28           500000         重庆市            17.0                  8.40   \n",
       "2022-03-29           500000         重庆市            17.5                  8.40   \n",
       "2022-03-30           500000         重庆市            16.0                  3.00   \n",
       "2022-03-31           500000         重庆市            15.5                  8.40   \n",
       "\n",
       "                c_average_humidity  inner_temp_4001  inner_temp_4005  \\\n",
       "c_weather_time                                                         \n",
       "2021-08-01                    72.0        32.904167        30.250000   \n",
       "2021-08-02                    69.0        32.841667        30.441667   \n",
       "2021-08-03                    57.0        32.950000        30.483333   \n",
       "2021-08-04                    63.0        33.029167        30.520833   \n",
       "2021-08-05                    72.0        33.020833        30.583333   \n",
       "...                            ...              ...              ...   \n",
       "2022-03-27                    83.0        22.683333        22.495833   \n",
       "2022-03-28                    73.0        22.654167        22.416667   \n",
       "2022-03-29                    66.0        22.895833        22.462500   \n",
       "2022-03-30                    91.0        23.037500        22.395833   \n",
       "2022-03-31                    94.0        22.708333        22.329167   \n",
       "\n",
       "                inner_temp_4007  inner_temp_4008  inner_temp_4009  ...  \\\n",
       "c_weather_time                                                     ...   \n",
       "2021-08-01            27.079167        26.608333        26.104167  ...   \n",
       "2021-08-02            27.112500        26.920833        26.187500  ...   \n",
       "2021-08-03            27.162500        27.070833        26.337500  ...   \n",
       "2021-08-04            27.200000        26.529167        26.391667  ...   \n",
       "2021-08-05            27.316667        27.079167        26.270833  ...   \n",
       "...                         ...              ...              ...  ...   \n",
       "2022-03-27            23.462500        20.983333        18.033333  ...   \n",
       "2022-03-28            23.483333        21.625000        19.220833  ...   \n",
       "2022-03-29            23.820833        22.233333        20.258333  ...   \n",
       "2022-03-30            23.737500        22.212500        18.995833  ...   \n",
       "2022-03-31            23.608333        21.579167        18.891667  ...   \n",
       "\n",
       "                c_average_humidity&inner_humidity_20037_diff  \\\n",
       "c_weather_time                                                 \n",
       "2021-08-01                                          8.158333   \n",
       "2021-08-02                                          0.787500   \n",
       "2021-08-03                                         -9.066667   \n",
       "2021-08-04                                         -3.129167   \n",
       "2021-08-05                                          3.845833   \n",
       "...                                                      ...   \n",
       "2022-03-27                                         16.212500   \n",
       "2022-03-28                                         17.120833   \n",
       "2022-03-29                                         12.450000   \n",
       "2022-03-30                                         23.379167   \n",
       "2022-03-31                                         22.487500   \n",
       "\n",
       "                c_average_humidity&inner_humidity_20039_diff  \\\n",
       "c_weather_time                                                 \n",
       "2021-08-01                                          7.183333   \n",
       "2021-08-02                                         -0.579167   \n",
       "2021-08-03                                         -9.983333   \n",
       "2021-08-04                                         -4.120833   \n",
       "2021-08-05                                          1.958333   \n",
       "...                                                      ...   \n",
       "2022-03-27                                         17.437500   \n",
       "2022-03-28                                         14.850000   \n",
       "2022-03-29                                          9.791667   \n",
       "2022-03-30                                         24.637500   \n",
       "2022-03-31                                         25.679167   \n",
       "\n",
       "                c_average_humidity&inner_humidity_20040_diff  \\\n",
       "c_weather_time                                                 \n",
       "2021-08-01                                         12.950000   \n",
       "2021-08-02                                          4.316667   \n",
       "2021-08-03                                         -6.087500   \n",
       "2021-08-04                                         -0.187500   \n",
       "2021-08-05                                          6.737500   \n",
       "...                                                      ...   \n",
       "2022-03-27                                         11.758333   \n",
       "2022-03-28                                         13.137500   \n",
       "2022-03-29                                         10.512500   \n",
       "2022-03-30                                         19.112500   \n",
       "2022-03-31                                         20.233333   \n",
       "\n",
       "                c_average_humidity&inner_humidity_20041_diff  \\\n",
       "c_weather_time                                                 \n",
       "2021-08-01                                         10.908333   \n",
       "2021-08-02                                          4.054167   \n",
       "2021-08-03                                         -6.379167   \n",
       "2021-08-04                                         -0.187500   \n",
       "2021-08-05                                          7.287500   \n",
       "...                                                      ...   \n",
       "2022-03-27                                         13.429167   \n",
       "2022-03-28                                         14.354167   \n",
       "2022-03-29                                         11.654167   \n",
       "2022-03-30                                         20.616667   \n",
       "2022-03-31                                         22.383333   \n",
       "\n",
       "                c_average_humidity&inner_humidity_20042_diff  \\\n",
       "c_weather_time                                                 \n",
       "2021-08-01                                          7.595833   \n",
       "2021-08-02                                          0.279167   \n",
       "2021-08-03                                         -9.691667   \n",
       "2021-08-04                                         -3.504167   \n",
       "2021-08-05                                          3.983333   \n",
       "...                                                      ...   \n",
       "2022-03-27                                         18.379167   \n",
       "2022-03-28                                         16.850000   \n",
       "2022-03-29                                         12.708333   \n",
       "2022-03-30                                         25.058333   \n",
       "2022-03-31                                         27.170833   \n",
       "\n",
       "                c_average_humidity&inner_humidity_20043_diff  \\\n",
       "c_weather_time                                                 \n",
       "2021-08-01                                          7.850000   \n",
       "2021-08-02                                          1.691667   \n",
       "2021-08-03                                         -8.666667   \n",
       "2021-08-04                                         -2.533333   \n",
       "2021-08-05                                          4.333333   \n",
       "...                                                      ...   \n",
       "2022-03-27                                         23.958333   \n",
       "2022-03-28                                         20.383333   \n",
       "2022-03-29                                          8.104167   \n",
       "2022-03-30                                         21.404167   \n",
       "2022-03-31                                         22.254167   \n",
       "\n",
       "                c_average_humidity&inner_humidity_20045_diff  \\\n",
       "c_weather_time                                                 \n",
       "2021-08-01                                         10.533333   \n",
       "2021-08-02                                          2.433333   \n",
       "2021-08-03                                         -7.379167   \n",
       "2021-08-04                                          0.062500   \n",
       "2021-08-05                                          6.754167   \n",
       "...                                                      ...   \n",
       "2022-03-27                                         18.070833   \n",
       "2022-03-28                                         11.308333   \n",
       "2022-03-29                                          7.512500   \n",
       "2022-03-30                                         26.787500   \n",
       "2022-03-31                                         25.791667   \n",
       "\n",
       "                c_average_humidity&inner_humidity_20046_diff  \\\n",
       "c_weather_time                                                 \n",
       "2021-08-01                                          8.345833   \n",
       "2021-08-02                                          0.450000   \n",
       "2021-08-03                                         -7.570833   \n",
       "2021-08-04                                         -1.412500   \n",
       "2021-08-05                                          4.950000   \n",
       "...                                                      ...   \n",
       "2022-03-27                                         15.950000   \n",
       "2022-03-28                                         17.654167   \n",
       "2022-03-29                                         13.800000   \n",
       "2022-03-30                                         25.116667   \n",
       "2022-03-31                                         23.429167   \n",
       "\n",
       "                c_average_humidity&inner_humidity_20047_diff  \\\n",
       "c_weather_time                                                 \n",
       "2021-08-01                                          6.637500   \n",
       "2021-08-02                                         -1.258333   \n",
       "2021-08-03                                        -10.058333   \n",
       "2021-08-04                                         -4.287500   \n",
       "2021-08-05                                          2.091667   \n",
       "...                                                      ...   \n",
       "2022-03-27                                         19.100000   \n",
       "2022-03-28                                         18.616667   \n",
       "2022-03-29                                         13.770833   \n",
       "2022-03-30                                         25.816667   \n",
       "2022-03-31                                         25.816667   \n",
       "\n",
       "                c_average_humidity&inner_humidity_20061_diff  \n",
       "c_weather_time                                                \n",
       "2021-08-01                                         10.345833  \n",
       "2021-08-02                                          2.741667  \n",
       "2021-08-03                                         -8.595833  \n",
       "2021-08-04                                         -3.125000  \n",
       "2021-08-05                                          3.412500  \n",
       "...                                                      ...  \n",
       "2022-03-27                                         16.462500  \n",
       "2022-03-28                                         14.441667  \n",
       "2022-03-29                                          8.833333  \n",
       "2022-03-30                                         24.166667  \n",
       "2022-03-31                                         24.337500  \n",
       "\n",
       "[243 rows x 303 columns]"
      ]
     },
     "execution_count": 40,
     "metadata": {},
     "output_type": "execute_result"
    }
   ],
   "source": [
    "weather_daily"
   ]
  },
  {
   "cell_type": "markdown",
   "id": "ae236706-eb4b-407a-a654-ad55c6321700",
   "metadata": {},
   "source": [
    "### 4. 合并每日和每时天气数据"
   ]
  },
  {
   "cell_type": "code",
   "execution_count": 41,
   "id": "1b584ca0-ee2b-4469-98a5-6055a9011c8e",
   "metadata": {
    "execution": {
     "iopub.execute_input": "2022-05-02T13:07:55.761318Z",
     "iopub.status.busy": "2022-05-02T13:07:55.760908Z",
     "iopub.status.idle": "2022-05-02T13:07:55.766447Z",
     "shell.execute_reply": "2022-05-02T13:07:55.765885Z",
     "shell.execute_reply.started": "2022-05-02T13:07:55.761294Z"
    },
    "scrolled": true,
    "tags": []
   },
   "outputs": [],
   "source": [
    "# weather_hour.drop(['c_city_code', 'c_city_name'], axis=1, inplace=True)\n",
    "weather_daily.drop(['c_city_code', 'c_city_name'], axis=1, inplace=True)\n",
    "# df_weather_dt.drop(['c_city_code', 'c_city_name'], axis=1, inplace=True)"
   ]
  },
  {
   "cell_type": "code",
   "execution_count": 42,
   "id": "b4b38ead-9c83-482f-81f4-3943855df583",
   "metadata": {
    "execution": {
     "iopub.execute_input": "2022-05-02T13:07:55.768140Z",
     "iopub.status.busy": "2022-05-02T13:07:55.767796Z",
     "iopub.status.idle": "2022-05-02T13:07:55.779830Z",
     "shell.execute_reply": "2022-05-02T13:07:55.779264Z",
     "shell.execute_reply.started": "2022-05-02T13:07:55.768116Z"
    },
    "scrolled": true,
    "tags": []
   },
   "outputs": [],
   "source": [
    "# weather_daily.set_index('c_weather_time', inplace=True)\n",
    "# 合并两个天气数据集\n",
    "df_weather_dt = weather_daily.join(weather_hour)"
   ]
  },
  {
   "cell_type": "code",
   "execution_count": 43,
   "id": "81b02e9a-31ee-4a52-a3d0-64b1c41da742",
   "metadata": {
    "execution": {
     "iopub.execute_input": "2022-05-02T13:07:55.781018Z",
     "iopub.status.busy": "2022-05-02T13:07:55.780688Z",
     "iopub.status.idle": "2022-05-02T13:07:55.802568Z",
     "shell.execute_reply": "2022-05-02T13:07:55.801787Z",
     "shell.execute_reply.started": "2022-05-02T13:07:55.780995Z"
    },
    "scrolled": true,
    "tags": []
   },
   "outputs": [],
   "source": [
    "weather_hour = weather_hour.T\n",
    "weather_daily = weather_daily.T\n",
    "df_weather_dt = df_weather_dt.T"
   ]
  },
  {
   "cell_type": "code",
   "execution_count": 44,
   "id": "eb1e3421-32e4-42c2-872d-4f710552a207",
   "metadata": {
    "execution": {
     "iopub.execute_input": "2022-05-02T13:07:55.803908Z",
     "iopub.status.busy": "2022-05-02T13:07:55.803563Z",
     "iopub.status.idle": "2022-05-02T13:07:55.835417Z",
     "shell.execute_reply": "2022-05-02T13:07:55.834810Z",
     "shell.execute_reply.started": "2022-05-02T13:07:55.803884Z"
    },
    "scrolled": true,
    "tags": []
   },
   "outputs": [
    {
     "data": {
      "text/html": [
       "<div>\n",
       "<style scoped>\n",
       "    .dataframe tbody tr th:only-of-type {\n",
       "        vertical-align: middle;\n",
       "    }\n",
       "\n",
       "    .dataframe tbody tr th {\n",
       "        vertical-align: top;\n",
       "    }\n",
       "\n",
       "    .dataframe thead th {\n",
       "        text-align: right;\n",
       "    }\n",
       "</style>\n",
       "<table border=\"1\" class=\"dataframe\">\n",
       "  <thead>\n",
       "    <tr style=\"text-align: right;\">\n",
       "      <th>date</th>\n",
       "      <th>2021-08-01</th>\n",
       "      <th>2021-08-02</th>\n",
       "      <th>2021-08-03</th>\n",
       "      <th>2021-08-04</th>\n",
       "      <th>2021-08-05</th>\n",
       "      <th>2021-08-06</th>\n",
       "      <th>2021-08-07</th>\n",
       "      <th>2021-08-08</th>\n",
       "      <th>2021-08-09</th>\n",
       "      <th>2021-08-10</th>\n",
       "      <th>...</th>\n",
       "      <th>2022-03-22</th>\n",
       "      <th>2022-03-23</th>\n",
       "      <th>2022-03-24</th>\n",
       "      <th>2022-03-25</th>\n",
       "      <th>2022-03-26</th>\n",
       "      <th>2022-03-27</th>\n",
       "      <th>2022-03-28</th>\n",
       "      <th>2022-03-29</th>\n",
       "      <th>2022-03-30</th>\n",
       "      <th>2022-03-31</th>\n",
       "    </tr>\n",
       "  </thead>\n",
       "  <tbody>\n",
       "    <tr>\n",
       "      <th>c_average_humidity0</th>\n",
       "      <td>49.0</td>\n",
       "      <td>56.0</td>\n",
       "      <td>53.0</td>\n",
       "      <td>48.0</td>\n",
       "      <td>54.0</td>\n",
       "      <td>64.0</td>\n",
       "      <td>59.0</td>\n",
       "      <td>82.0</td>\n",
       "      <td>94.0</td>\n",
       "      <td>80.0</td>\n",
       "      <td>...</td>\n",
       "      <td>92.0</td>\n",
       "      <td>87.0</td>\n",
       "      <td>81.0</td>\n",
       "      <td>81.0</td>\n",
       "      <td>85.0</td>\n",
       "      <td>95.0</td>\n",
       "      <td>95.0</td>\n",
       "      <td>66.0</td>\n",
       "      <td>66.0</td>\n",
       "      <td>95.0</td>\n",
       "    </tr>\n",
       "    <tr>\n",
       "      <th>c_average_humidity1</th>\n",
       "      <td>48.0</td>\n",
       "      <td>69.0</td>\n",
       "      <td>58.0</td>\n",
       "      <td>51.0</td>\n",
       "      <td>56.0</td>\n",
       "      <td>66.0</td>\n",
       "      <td>62.0</td>\n",
       "      <td>83.0</td>\n",
       "      <td>94.0</td>\n",
       "      <td>82.0</td>\n",
       "      <td>...</td>\n",
       "      <td>95.0</td>\n",
       "      <td>87.0</td>\n",
       "      <td>80.0</td>\n",
       "      <td>81.0</td>\n",
       "      <td>90.0</td>\n",
       "      <td>95.0</td>\n",
       "      <td>95.0</td>\n",
       "      <td>71.0</td>\n",
       "      <td>65.0</td>\n",
       "      <td>96.0</td>\n",
       "    </tr>\n",
       "    <tr>\n",
       "      <th>c_average_humidity2</th>\n",
       "      <td>51.0</td>\n",
       "      <td>61.0</td>\n",
       "      <td>60.0</td>\n",
       "      <td>54.0</td>\n",
       "      <td>59.0</td>\n",
       "      <td>62.0</td>\n",
       "      <td>65.0</td>\n",
       "      <td>84.0</td>\n",
       "      <td>94.0</td>\n",
       "      <td>83.0</td>\n",
       "      <td>...</td>\n",
       "      <td>96.0</td>\n",
       "      <td>87.0</td>\n",
       "      <td>83.0</td>\n",
       "      <td>80.0</td>\n",
       "      <td>93.0</td>\n",
       "      <td>96.0</td>\n",
       "      <td>95.0</td>\n",
       "      <td>68.0</td>\n",
       "      <td>70.0</td>\n",
       "      <td>96.0</td>\n",
       "    </tr>\n",
       "    <tr>\n",
       "      <th>c_average_humidity3</th>\n",
       "      <td>60.0</td>\n",
       "      <td>64.0</td>\n",
       "      <td>62.0</td>\n",
       "      <td>56.0</td>\n",
       "      <td>60.0</td>\n",
       "      <td>59.0</td>\n",
       "      <td>65.0</td>\n",
       "      <td>84.0</td>\n",
       "      <td>90.0</td>\n",
       "      <td>85.0</td>\n",
       "      <td>...</td>\n",
       "      <td>95.0</td>\n",
       "      <td>90.0</td>\n",
       "      <td>84.0</td>\n",
       "      <td>79.0</td>\n",
       "      <td>93.0</td>\n",
       "      <td>96.0</td>\n",
       "      <td>96.0</td>\n",
       "      <td>72.0</td>\n",
       "      <td>73.0</td>\n",
       "      <td>97.0</td>\n",
       "    </tr>\n",
       "    <tr>\n",
       "      <th>c_average_humidity4</th>\n",
       "      <td>59.0</td>\n",
       "      <td>67.0</td>\n",
       "      <td>63.0</td>\n",
       "      <td>57.0</td>\n",
       "      <td>62.0</td>\n",
       "      <td>59.0</td>\n",
       "      <td>67.0</td>\n",
       "      <td>87.0</td>\n",
       "      <td>89.0</td>\n",
       "      <td>89.0</td>\n",
       "      <td>...</td>\n",
       "      <td>96.0</td>\n",
       "      <td>91.0</td>\n",
       "      <td>87.0</td>\n",
       "      <td>79.0</td>\n",
       "      <td>95.0</td>\n",
       "      <td>97.0</td>\n",
       "      <td>97.0</td>\n",
       "      <td>74.0</td>\n",
       "      <td>74.0</td>\n",
       "      <td>97.0</td>\n",
       "    </tr>\n",
       "    <tr>\n",
       "      <th>...</th>\n",
       "      <td>...</td>\n",
       "      <td>...</td>\n",
       "      <td>...</td>\n",
       "      <td>...</td>\n",
       "      <td>...</td>\n",
       "      <td>...</td>\n",
       "      <td>...</td>\n",
       "      <td>...</td>\n",
       "      <td>...</td>\n",
       "      <td>...</td>\n",
       "      <td>...</td>\n",
       "      <td>...</td>\n",
       "      <td>...</td>\n",
       "      <td>...</td>\n",
       "      <td>...</td>\n",
       "      <td>...</td>\n",
       "      <td>...</td>\n",
       "      <td>...</td>\n",
       "      <td>...</td>\n",
       "      <td>...</td>\n",
       "      <td>...</td>\n",
       "    </tr>\n",
       "    <tr>\n",
       "      <th>inner_temp_412019</th>\n",
       "      <td>26.4</td>\n",
       "      <td>27.3</td>\n",
       "      <td>26.3</td>\n",
       "      <td>26.9</td>\n",
       "      <td>26.4</td>\n",
       "      <td>27.6</td>\n",
       "      <td>26.6</td>\n",
       "      <td>25.8</td>\n",
       "      <td>26.3</td>\n",
       "      <td>25.4</td>\n",
       "      <td>...</td>\n",
       "      <td>23.2</td>\n",
       "      <td>23.3</td>\n",
       "      <td>23.4</td>\n",
       "      <td>23.3</td>\n",
       "      <td>22.8</td>\n",
       "      <td>22.7</td>\n",
       "      <td>23.2</td>\n",
       "      <td>23.1</td>\n",
       "      <td>22.8</td>\n",
       "      <td>22.2</td>\n",
       "    </tr>\n",
       "    <tr>\n",
       "      <th>inner_temp_412020</th>\n",
       "      <td>26.2</td>\n",
       "      <td>27.7</td>\n",
       "      <td>26.3</td>\n",
       "      <td>26.9</td>\n",
       "      <td>26.2</td>\n",
       "      <td>27.8</td>\n",
       "      <td>26.6</td>\n",
       "      <td>25.7</td>\n",
       "      <td>26.3</td>\n",
       "      <td>25.4</td>\n",
       "      <td>...</td>\n",
       "      <td>23.3</td>\n",
       "      <td>23.4</td>\n",
       "      <td>23.4</td>\n",
       "      <td>23.5</td>\n",
       "      <td>22.8</td>\n",
       "      <td>22.6</td>\n",
       "      <td>23.2</td>\n",
       "      <td>23.1</td>\n",
       "      <td>22.9</td>\n",
       "      <td>22.2</td>\n",
       "    </tr>\n",
       "    <tr>\n",
       "      <th>inner_temp_412021</th>\n",
       "      <td>26.1</td>\n",
       "      <td>27.6</td>\n",
       "      <td>26.6</td>\n",
       "      <td>25.9</td>\n",
       "      <td>26.9</td>\n",
       "      <td>27.9</td>\n",
       "      <td>26.5</td>\n",
       "      <td>25.7</td>\n",
       "      <td>26.4</td>\n",
       "      <td>25.1</td>\n",
       "      <td>...</td>\n",
       "      <td>23.2</td>\n",
       "      <td>23.3</td>\n",
       "      <td>23.4</td>\n",
       "      <td>23.5</td>\n",
       "      <td>22.6</td>\n",
       "      <td>22.4</td>\n",
       "      <td>23.2</td>\n",
       "      <td>23.1</td>\n",
       "      <td>22.9</td>\n",
       "      <td>22.2</td>\n",
       "    </tr>\n",
       "    <tr>\n",
       "      <th>inner_temp_412022</th>\n",
       "      <td>26.4</td>\n",
       "      <td>27.4</td>\n",
       "      <td>26.7</td>\n",
       "      <td>26.0</td>\n",
       "      <td>26.6</td>\n",
       "      <td>27.9</td>\n",
       "      <td>26.3</td>\n",
       "      <td>25.6</td>\n",
       "      <td>26.5</td>\n",
       "      <td>24.5</td>\n",
       "      <td>...</td>\n",
       "      <td>23.2</td>\n",
       "      <td>23.2</td>\n",
       "      <td>23.3</td>\n",
       "      <td>23.4</td>\n",
       "      <td>22.5</td>\n",
       "      <td>22.3</td>\n",
       "      <td>23.1</td>\n",
       "      <td>23.0</td>\n",
       "      <td>22.8</td>\n",
       "      <td>22.1</td>\n",
       "    </tr>\n",
       "    <tr>\n",
       "      <th>inner_temp_412023</th>\n",
       "      <td>28.7</td>\n",
       "      <td>29.5</td>\n",
       "      <td>29.5</td>\n",
       "      <td>29.5</td>\n",
       "      <td>28.9</td>\n",
       "      <td>29.4</td>\n",
       "      <td>27.8</td>\n",
       "      <td>26.9</td>\n",
       "      <td>27.6</td>\n",
       "      <td>26.5</td>\n",
       "      <td>...</td>\n",
       "      <td>23.5</td>\n",
       "      <td>23.2</td>\n",
       "      <td>23.3</td>\n",
       "      <td>23.3</td>\n",
       "      <td>22.4</td>\n",
       "      <td>22.3</td>\n",
       "      <td>23.0</td>\n",
       "      <td>22.9</td>\n",
       "      <td>22.6</td>\n",
       "      <td>22.0</td>\n",
       "    </tr>\n",
       "  </tbody>\n",
       "</table>\n",
       "<p>7224 rows × 243 columns</p>\n",
       "</div>"
      ],
      "text/plain": [
       "date                 2021-08-01  2021-08-02  2021-08-03  2021-08-04  \\\n",
       "c_average_humidity0        49.0        56.0        53.0        48.0   \n",
       "c_average_humidity1        48.0        69.0        58.0        51.0   \n",
       "c_average_humidity2        51.0        61.0        60.0        54.0   \n",
       "c_average_humidity3        60.0        64.0        62.0        56.0   \n",
       "c_average_humidity4        59.0        67.0        63.0        57.0   \n",
       "...                         ...         ...         ...         ...   \n",
       "inner_temp_412019          26.4        27.3        26.3        26.9   \n",
       "inner_temp_412020          26.2        27.7        26.3        26.9   \n",
       "inner_temp_412021          26.1        27.6        26.6        25.9   \n",
       "inner_temp_412022          26.4        27.4        26.7        26.0   \n",
       "inner_temp_412023          28.7        29.5        29.5        29.5   \n",
       "\n",
       "date                 2021-08-05  2021-08-06  2021-08-07  2021-08-08  \\\n",
       "c_average_humidity0        54.0        64.0        59.0        82.0   \n",
       "c_average_humidity1        56.0        66.0        62.0        83.0   \n",
       "c_average_humidity2        59.0        62.0        65.0        84.0   \n",
       "c_average_humidity3        60.0        59.0        65.0        84.0   \n",
       "c_average_humidity4        62.0        59.0        67.0        87.0   \n",
       "...                         ...         ...         ...         ...   \n",
       "inner_temp_412019          26.4        27.6        26.6        25.8   \n",
       "inner_temp_412020          26.2        27.8        26.6        25.7   \n",
       "inner_temp_412021          26.9        27.9        26.5        25.7   \n",
       "inner_temp_412022          26.6        27.9        26.3        25.6   \n",
       "inner_temp_412023          28.9        29.4        27.8        26.9   \n",
       "\n",
       "date                 2021-08-09  2021-08-10  ...  2022-03-22  2022-03-23  \\\n",
       "c_average_humidity0        94.0        80.0  ...        92.0        87.0   \n",
       "c_average_humidity1        94.0        82.0  ...        95.0        87.0   \n",
       "c_average_humidity2        94.0        83.0  ...        96.0        87.0   \n",
       "c_average_humidity3        90.0        85.0  ...        95.0        90.0   \n",
       "c_average_humidity4        89.0        89.0  ...        96.0        91.0   \n",
       "...                         ...         ...  ...         ...         ...   \n",
       "inner_temp_412019          26.3        25.4  ...        23.2        23.3   \n",
       "inner_temp_412020          26.3        25.4  ...        23.3        23.4   \n",
       "inner_temp_412021          26.4        25.1  ...        23.2        23.3   \n",
       "inner_temp_412022          26.5        24.5  ...        23.2        23.2   \n",
       "inner_temp_412023          27.6        26.5  ...        23.5        23.2   \n",
       "\n",
       "date                 2022-03-24  2022-03-25  2022-03-26  2022-03-27  \\\n",
       "c_average_humidity0        81.0        81.0        85.0        95.0   \n",
       "c_average_humidity1        80.0        81.0        90.0        95.0   \n",
       "c_average_humidity2        83.0        80.0        93.0        96.0   \n",
       "c_average_humidity3        84.0        79.0        93.0        96.0   \n",
       "c_average_humidity4        87.0        79.0        95.0        97.0   \n",
       "...                         ...         ...         ...         ...   \n",
       "inner_temp_412019          23.4        23.3        22.8        22.7   \n",
       "inner_temp_412020          23.4        23.5        22.8        22.6   \n",
       "inner_temp_412021          23.4        23.5        22.6        22.4   \n",
       "inner_temp_412022          23.3        23.4        22.5        22.3   \n",
       "inner_temp_412023          23.3        23.3        22.4        22.3   \n",
       "\n",
       "date                 2022-03-28  2022-03-29  2022-03-30  2022-03-31  \n",
       "c_average_humidity0        95.0        66.0        66.0        95.0  \n",
       "c_average_humidity1        95.0        71.0        65.0        96.0  \n",
       "c_average_humidity2        95.0        68.0        70.0        96.0  \n",
       "c_average_humidity3        96.0        72.0        73.0        97.0  \n",
       "c_average_humidity4        97.0        74.0        74.0        97.0  \n",
       "...                         ...         ...         ...         ...  \n",
       "inner_temp_412019          23.2        23.1        22.8        22.2  \n",
       "inner_temp_412020          23.2        23.1        22.9        22.2  \n",
       "inner_temp_412021          23.2        23.1        22.9        22.2  \n",
       "inner_temp_412022          23.1        23.0        22.8        22.1  \n",
       "inner_temp_412023          23.0        22.9        22.6        22.0  \n",
       "\n",
       "[7224 rows x 243 columns]"
      ]
     },
     "execution_count": 44,
     "metadata": {},
     "output_type": "execute_result"
    }
   ],
   "source": [
    "weather_hour"
   ]
  },
  {
   "cell_type": "code",
   "execution_count": 45,
   "id": "d9c1ed88",
   "metadata": {
    "execution": {
     "iopub.execute_input": "2022-05-02T13:07:55.836626Z",
     "iopub.status.busy": "2022-05-02T13:07:55.836371Z",
     "iopub.status.idle": "2022-05-02T13:07:55.887812Z",
     "shell.execute_reply": "2022-05-02T13:07:55.887156Z",
     "shell.execute_reply.started": "2022-05-02T13:07:55.836603Z"
    },
    "scrolled": true,
    "tags": []
   },
   "outputs": [],
   "source": [
    "# 导出数据\n",
    "weather_hour.to_pickle('./work/AI_data/weather_hour.pkl')\n",
    "weather_daily.to_pickle('./work/AI_data/weather_daily.pkl')\n",
    "df_weather_dt.to_pickle('./work/AI_data/df_weather_dt.pkl')"
   ]
  }
 ],
 "metadata": {
  "kernelspec": {
   "display_name": "Python 3",
   "language": "python",
   "name": "py35-paddle1.2.0"
  },
  "language_info": {
   "codemirror_mode": {
    "name": "ipython",
    "version": 3
   },
   "file_extension": ".py",
   "mimetype": "text/x-python",
   "name": "python",
   "nbconvert_exporter": "python",
   "pygments_lexer": "ipython3",
   "version": "3.7.4"
  }
 },
 "nbformat": 4,
 "nbformat_minor": 5
}
